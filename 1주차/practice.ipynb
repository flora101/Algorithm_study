{
 "cells": [
  {
   "cell_type": "code",
   "execution_count": 17,
   "metadata": {},
   "outputs": [
    {
     "name": "stdout",
     "output_type": "stream",
     "text": [
      "hello world\n",
      "o world\n",
      "el\n",
      "dlrow olleh\n",
      "hello worldhello worldhello world\n",
      "d\n",
      "11\n"
     ]
    }
   ],
   "source": [
    "hello = \"hello world\"\n",
    "print(hello)\n",
    "print(hello[4:])# 4번째 인덱스 부터 다\n",
    "print(hello[1:3])#1부터 2까지\n",
    "print(hello[::-1])\n",
    "print(hello*3)\n",
    "print(hello[-1])#끝에서부터 인덱스가 -1,-2....\n",
    "print(len(hello))#띄어쓰기 포함\n"
   ]
  },
  {
   "cell_type": "code",
   "execution_count": 18,
   "metadata": {},
   "outputs": [
    {
     "name": "stdout",
     "output_type": "stream",
     "text": [
      "['h', 'e', 'l', 'l', 'o', ' ', 'w', 'o', 'r', 'l', 'd']\n",
      "['e', 'l', 'l']\n",
      "['e', 'l', ' ', 'o', 'l']\n",
      "11\n"
     ]
    }
   ],
   "source": [
    "hello = list(hello) #list 형변환\n",
    "print(hello)\n",
    "print(hello[1:4])\n",
    "print(hello[1::2])#start end step\n",
    "print(len(hello))"
   ]
  },
  {
   "cell_type": "code",
   "execution_count": 21,
   "metadata": {},
   "outputs": [
    {
     "name": "stdout",
     "output_type": "stream",
     "text": [
      "2.0 2 0\n",
      "(2, 0)\n",
      "2\n"
     ]
    }
   ],
   "source": [
    "a=10\n",
    "b=5\n",
    "print(a/b, a//b, a%b)#소수점까지, 몫, 나머지\n",
    "print(divmod(a,b))#몫과 나머지를 한번에 뽑아줌\n",
    "print(divmod(a,b)[0])#인덱싱해서 몫만 나옴\n"
   ]
  },
  {
   "cell_type": "code",
   "execution_count": 23,
   "metadata": {},
   "outputs": [
    {
     "name": "stdout",
     "output_type": "stream",
     "text": [
      "문자열273\n"
     ]
    }
   ],
   "source": [
    "string=\"문자열\"\n",
    "number=273\n",
    "#string+number#안됨\n",
    "print(string+str(number))#숫자를 문자열로 형변환 시켜야지 더해질수 있음"
   ]
  },
  {
   "cell_type": "code",
   "execution_count": 27,
   "metadata": {},
   "outputs": [
    {
     "name": "stdout",
     "output_type": "stream",
     "text": [
      "56\n"
     ]
    }
   ],
   "source": [
    "#print(input())#입출력\n",
    "n= int(input())#input은 문자로 인식하기 때문에 숫자계산해주려면 int로 형변환 해줘야함\n",
    "print(n)"
   ]
  },
  {
   "cell_type": "code",
   "execution_count": 29,
   "metadata": {},
   "outputs": [
    {
     "name": "stdout",
     "output_type": "stream",
     "text": [
      "5\n",
      "-1\n"
     ]
    }
   ],
   "source": [
    "name = \"배근영, 이정민, 전지웅\"\n",
    "print(name.find(\"이정민\"))#찾은 첫번쨰 인덱스를 반환해줌\n",
    "print(name.find(\"하하\"))#없으면 -1 반환\n"
   ]
  },
  {
   "cell_type": "code",
   "execution_count": 35,
   "metadata": {},
   "outputs": [
    {
     "name": "stdout",
     "output_type": "stream",
     "text": [
      "1 0 -1 -1 2 -1 -1 -1 -1 4 3 -1 -1 7 5 -1 -1 -1 -1 -1 -1 -1 -1 -1 -1 -1 "
     ]
    }
   ],
   "source": [
    "alpa=list(\"Abcdefghijklmnopqrstuvwxyz\".lower())\n",
    "s=input()\n",
    "for i in alpa:\n",
    "    result=s.find(i)\n",
    "    print(result, end=\" \")\n"
   ]
  },
  {
   "cell_type": "code",
   "execution_count": 41,
   "metadata": {},
   "outputs": [],
   "source": [
    "name\n",
    "name_array= name.split(\", \")#공백기준으로 잘림, 이건 쉼표로 기준"
   ]
  },
  {
   "cell_type": "code",
   "execution_count": 47,
   "metadata": {},
   "outputs": [
    {
     "name": "stdout",
     "output_type": "stream",
     "text": [
      "['배근영', '이정민', '전지웅']\n",
      "배근영 이정민 전지웅 \n",
      "배근영\n",
      "이정민\n",
      "전지웅\n"
     ]
    }
   ],
   "source": [
    "print(name_array)\n",
    "for i in name_array:\n",
    "    print(i,end=\" \")\n",
    "print()   \n",
    "for i in range(len(name_array)): #name_array=숫자3\n",
    "    print(name_array[i])"
   ]
  },
  {
   "cell_type": "code",
   "execution_count": 53,
   "metadata": {},
   "outputs": [
    {
     "name": "stdout",
     "output_type": "stream",
     "text": [
      "['배근영', '이정민', '전지웅', '이종택', '이종택']\n",
      "['배근영', '이정민', '이종택', '이종택']\n"
     ]
    }
   ],
   "source": [
    "name_array.append(\"이종택\")\n",
    "print(name_array)\n",
    "name_array.pop(2)\n",
    "print(name_array)"
   ]
  },
  {
   "cell_type": "code",
   "execution_count": 56,
   "metadata": {},
   "outputs": [
    {
     "name": "stdout",
     "output_type": "stream",
     "text": [
      "있습니다\n"
     ]
    }
   ],
   "source": [
    "if \"이정민\" in name_array:\n",
    "    print(\"있습니다\")\n",
    "if \"이정민\" not in name_array:\n",
    "    print(\"없습니다\")"
   ]
  },
  {
   "cell_type": "code",
   "execution_count": 59,
   "metadata": {},
   "outputs": [
    {
     "name": "stdout",
     "output_type": "stream",
     "text": [
      "[0, 1, 2, 3, 4, 5, 6, 7, 8, 9, 10, 11, 12, 13, 14, 15, 16, 17, 18, 19, 20, 21, 22, 23, 24, 25, 26, 27, 28, 29, 30, 31, 32, 33, 34, 35, 36, 37, 38, 39, 40, 41, 42, 43, 44, 45, 46, 47, 48, 49, 50, 51, 52, 53, 54, 55, 56, 57, 58, 59, 60, 61, 62, 63, 64, 65, 66, 67, 68, 69, 70, 71, 72, 73, 74, 75, 76, 77, 78, 79, 80, 81, 82, 83, 84, 85, 86, 87, 88, 89, 90, 91, 92, 93, 94, 95, 96, 97, 98, 99]\n"
     ]
    }
   ],
   "source": [
    "print(list(range(100)))"
   ]
  },
  {
   "cell_type": "code",
   "execution_count": 62,
   "metadata": {},
   "outputs": [
    {
     "name": "stdout",
     "output_type": "stream",
     "text": [
      "[20, 23, 26, 29, 32, 35, 38, 41, 44, 47, 50, 53, 56, 59, 62, 65, 68, 71, 74, 77, 80, 83, 86, 89, 92, 95, 98]\n"
     ]
    }
   ],
   "source": [
    "print(list(range(20,100,3)))#start, end, step"
   ]
  },
  {
   "cell_type": "code",
   "execution_count": 71,
   "metadata": {},
   "outputs": [
    {
     "name": "stdout",
     "output_type": "stream",
     "text": [
      "[20, 23, 26, 29, 32, 35, 38, 41, 44, 47, 50, 53, 56, 59, 62, 65, 68, 71, 74, 77, 80, 83, 86, 89, 92, 95, 98]\n",
      "20 98 1593\n",
      "<list_reverseiterator object at 0x00000177EEB395D0>\n",
      "[98, 95, 92, 89, 86, 83, 80, 77, 74, 71, 68, 65, 62, 59, 56, 53, 50, 47, 44, 41, 38, 35, 32, 29, 26, 23, 20]\n"
     ]
    }
   ],
   "source": [
    "r= list(range(20,100,3))\n",
    "print(r)\n",
    "print(min(r),max(r),sum(r))\n",
    "print(reversed(r))\n",
    "print(list(reversed(r)))#list로 변환 해줘야지 reversed를 쓸수 있음ㄴ"
   ]
  },
  {
   "cell_type": "code",
   "execution_count": 67,
   "metadata": {},
   "outputs": [
    {
     "name": "stdout",
     "output_type": "stream",
     "text": [
      "0 20\n",
      "1 23\n",
      "2 26\n",
      "3 29\n",
      "4 32\n",
      "5 35\n",
      "6 38\n",
      "7 41\n",
      "8 44\n",
      "9 47\n",
      "10 50\n",
      "11 53\n",
      "12 56\n",
      "13 59\n",
      "14 62\n",
      "15 65\n",
      "16 68\n",
      "17 71\n",
      "18 74\n",
      "19 77\n",
      "20 80\n",
      "21 83\n",
      "22 86\n",
      "23 89\n",
      "24 92\n",
      "25 95\n",
      "26 98\n"
     ]
    }
   ],
   "source": [
    "for index,value in enumerate(r):\n",
    "    print(index,value)#index, value를 한쌍으로 뽑아줌"
   ]
  },
  {
   "cell_type": "code",
   "execution_count": 69,
   "metadata": {},
   "outputs": [
    {
     "name": "stdout",
     "output_type": "stream",
     "text": [
      "(3, 10)\n"
     ]
    }
   ],
   "source": [
    "print((3,10))#소괄호로 되어있는게 투플(수정 할수 없음)"
   ]
  },
  {
   "cell_type": "code",
   "execution_count": 4,
   "metadata": {},
   "outputs": [
    {
     "name": "stdout",
     "output_type": "stream",
     "text": [
      "hello hi\n"
     ]
    }
   ],
   "source": [
    "hello=\"hello world\"\n",
    "hello= hello.replace(\"world\", \"hi\")\n",
    "print(hello)\n"
   ]
  },
  {
   "cell_type": "code",
   "execution_count": null,
   "metadata": {},
   "outputs": [],
   "source": []
  }
 ],
 "metadata": {
  "kernelspec": {
   "display_name": "Python 3",
   "language": "python",
   "name": "python3"
  },
  "language_info": {
   "codemirror_mode": {
    "name": "ipython",
    "version": 3
   },
   "file_extension": ".py",
   "mimetype": "text/x-python",
   "name": "python",
   "nbconvert_exporter": "python",
   "pygments_lexer": "ipython3",
   "version": "3.10.5 (tags/v3.10.5:f377153, Jun  6 2022, 16:14:13) [MSC v.1929 64 bit (AMD64)]"
  },
  "orig_nbformat": 4,
  "vscode": {
   "interpreter": {
    "hash": "369f2c481f4da34e4445cda3fffd2e751bd1c4d706f27375911949ba6bb62e1c"
   }
  }
 },
 "nbformat": 4,
 "nbformat_minor": 2
}
